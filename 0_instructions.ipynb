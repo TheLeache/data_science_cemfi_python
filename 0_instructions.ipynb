{
 "cells": [
  {
   "cell_type": "markdown",
   "metadata": {},
   "source": [
    "# Data Science 2025: practical classes in Google Colab"
   ]
  },
  {
   "cell_type": "markdown",
   "metadata": {},
   "source": [
    "In the coming lab sessions for data science, we will be using Google Colab. Which begs the question, what is Google Colab?\n",
    "\n",
    "# What is Google Colab?\n",
    "\n",
    "Google Colab (short for Google Collaboratory) is a cloud-based platform for writing and running Python code in a notebook format. It is built on Jupyter Notebook, and accessible directly through a web browser. \n",
    "\n",
    "it is accessible from this link: https://colab.research.google.com/ and integrates with you existing Google account, so you can access data from eg. your Google Drive. \n",
    "\n",
    "## How Does Google Colab Compare to Local Python Environments?\n",
    "\n",
    "As you may remember from Urban Economics, managing Python environments can be quite complicated. Colab uses a Python environment prepared for machine learning workflows, with many packages pre-installed. \n",
    "\n",
    "If you are sharing code with many people, it's an easy way of ensuring everyone meets the requirements to run your code and access the data. \n",
    "\n",
    "Also, you can make the virtual machine have access to quite powerful hardware, for a relatively low price. \n",
    "\n",
    "Of course, there are many limitations and restrictions relative to running code on a local machine. "
   ]
  },
  {
   "cell_type": "markdown",
   "metadata": {},
   "source": [
    "## Requirements to use Google Colab\n",
    "\n",
    "All Colab needs to get started is a Google account. I recommend the account where you have your Google Drive, presumably your CEMFI account, since part of the content of the course will be about loading and saving data from your Google Drive, as well as loading and saving Colab notebooks to your Google Drive."
   ]
  },
  {
   "cell_type": "markdown",
   "metadata": {},
   "source": [
    "## What other things will we be using in the course?\n",
    "\n",
    "On top of the basic requirements, we will be using data and models from two of the most popular platforms for machine learning, HuggingFace and Kaggle. Many pre-trained models, model source codes, and datasets for training and/or testing are uploaded here. \n",
    "You can access anything from Meta's Llama model: https://huggingface.co/meta-llama/Meta-Llama-3-8B-Instruct to a web-scraped dataset of videogame sales numbers since the 1980s: https://www.kaggle.com/datasets/rush4ratio/video-game-sales-with-ratings\n",
    "\n",
    "Both services have API methods to load data directly into Colab or other Python environments. \n",
    "\n",
    "The link for huggingface: https://huggingface.co/\n",
    "\n",
    "And for Kaggle: https://www.kaggle.com/\n",
    "\n",
    "You should make an account for both of these services and get \"access tokens\" to access the models and data from Colab"
   ]
  },
  {
   "cell_type": "code",
   "execution_count": null,
   "metadata": {},
   "outputs": [],
   "source": []
  }
 ],
 "metadata": {
  "language_info": {
   "name": "python"
  }
 },
 "nbformat": 4,
 "nbformat_minor": 2
}
